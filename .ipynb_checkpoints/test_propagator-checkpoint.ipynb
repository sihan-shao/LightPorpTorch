{
 "cells": [
  {
   "cell_type": "code",
   "execution_count": null,
   "id": "4279b53a-1efe-42a2-bb1f-7fc791f957a6",
   "metadata": {},
   "outputs": [],
   "source": [
    "import torch\n",
    "import sys\n",
    "sys.path.append('../')\n",
    "from DataType.ElectricField import ElectricField\n",
    "#from Components.Hologram_v2 import HologramElement\n",
    "from Props.RSC_Prop import RSC_prop\n",
    "from Props.CZT_Prop import CZT_prop\n",
    "from utils.Helper_Functions import normalize\n",
    "import numpy as np\n",
    "import scipy.io\n",
    "import time\n",
    "import torch.nn as nn\n",
    "from utils.units import *\n",
    "torch.__version__"
   ]
  },
  {
   "cell_type": "code",
   "execution_count": null,
   "id": "f2819719-6d2a-4f2f-b2a0-8363abb5445b",
   "metadata": {},
   "outputs": [],
   "source": [
    "from DataType.ElectricField import ElectricField\n",
    "# ElectricFields are 4D objects: \n",
    "# B x C x H x W\n",
    "# BATCH x Channel (Wavelength) x Height x Width\n",
    "\n",
    "N = 512\n",
    "field_data = torch.zeros(1,5,N,N) + 0j # 0j to make it complex\n",
    "\n",
    "# Set ones to the field\n",
    "field_data[...,N//4 : 3 * N//4, N//4 : 3 * N//4] = 1\n",
    "\n",
    "# Cast into our Datatype\n",
    "field_input = ElectricField(\n",
    "    data = field_data, \n",
    "    wavelengths = [600 * nm, 660 * nm, 720 * nm, 760 * nm, 800 * nm],\n",
    "    spacing = 6.4 * um,\n",
    ")"
   ]
  },
  {
   "cell_type": "code",
   "execution_count": null,
   "id": "1ed64185-b9df-439a-a8e6-c079f7284269",
   "metadata": {},
   "outputs": [],
   "source": [
    "field_input.visualize(figsize=(12, 12), wavelength=600 * nm, flag_axis=True, intensity=False)"
   ]
  },
  {
   "cell_type": "code",
   "execution_count": null,
   "id": "31b34012-d0f8-49f0-8fd9-31629df0d6df",
   "metadata": {},
   "outputs": [],
   "source": [
    "rsc_prop = RSC_prop(z_distance=300 * mm)"
   ]
  },
  {
   "cell_type": "code",
   "execution_count": null,
   "id": "4019d94d-9fb3-4898-94dd-63c89ca63ccf",
   "metadata": {},
   "outputs": [],
   "source": [
    "import time\n",
    " \n",
    "# record start time\n",
    "start = time.time()\n",
    "\n",
    "field_propagated_rsc = rsc_prop.forward(\n",
    "    field = field_input\n",
    ")\n",
    "\n",
    "# record end time\n",
    "end = time.time()\n",
    "\n",
    "# print the difference between start \n",
    "# and end time in milli. secs\n",
    "print(\"The time of execution of above program is :\",\n",
    "      (end-start) * 10**3, \"ms\")"
   ]
  },
  {
   "cell_type": "code",
   "execution_count": null,
   "id": "52e2625f-cd27-40dd-9925-0de2f8c4675b",
   "metadata": {},
   "outputs": [],
   "source": [
    "field_propagated_rsc.visualize(figsize=(12, 12), wavelength=600*nm,flag_axis=True, intensity=True)"
   ]
  },
  {
   "cell_type": "code",
   "execution_count": null,
   "id": "b58a75a2-e8d4-4200-8e86-b7a5e443023f",
   "metadata": {},
   "outputs": [],
   "source": [
    "czt_prop = CZT_prop(z_distance=300 * mm)"
   ]
  },
  {
   "cell_type": "code",
   "execution_count": null,
   "id": "c3293345-7fb4-4405-bc71-678b10eabbfa",
   "metadata": {},
   "outputs": [],
   "source": [
    "import time\n",
    " \n",
    "# record start time\n",
    "start = time.time()\n",
    "\n",
    "field_propagated_czt = czt_prop.forward(\n",
    "    field = field_input\n",
    ")\n",
    "\n",
    "\n",
    "# record end time\n",
    "end = time.time()\n",
    " \n",
    "# print the difference between start \n",
    "# and end time in milli. secs\n",
    "print(\"The time of execution of above program is :\",\n",
    "      (end-start) * 10**3, \"ms\")"
   ]
  },
  {
   "cell_type": "code",
   "execution_count": null,
   "id": "70207780-932f-485e-a689-bfbb6a48d759",
   "metadata": {},
   "outputs": [],
   "source": [
    "field_propagated_czt.visualize(figsize=(12, 12), wavelength=600*nm,flag_axis=True, intensity=True)"
   ]
  },
  {
   "cell_type": "code",
   "execution_count": null,
   "id": "97cd64ca-1a01-4d49-aef9-00e7aeb48340",
   "metadata": {},
   "outputs": [],
   "source": [
    "from Props.Fresnel import FresnelPropagator"
   ]
  },
  {
   "cell_type": "code",
   "execution_count": null,
   "id": "c540dcf6-d79e-4852-9cd5-415fc8ad5255",
   "metadata": {},
   "outputs": [],
   "source": [
    "prop = FresnelPropagator(z_distance=30 * mm, type='tf')"
   ]
  },
  {
   "cell_type": "code",
   "execution_count": null,
   "id": "aa6a7af6-741d-48c1-8b51-8817b94da39f",
   "metadata": {},
   "outputs": [],
   "source": [
    "field_propagated_fresnel = prop.forward(\n",
    "    field = field_input\n",
    ")"
   ]
  },
  {
   "cell_type": "code",
   "execution_count": null,
   "id": "ff317ae3-ccff-4884-b9ed-92699033596e",
   "metadata": {},
   "outputs": [],
   "source": [
    "field_propagated_fresnel.visualize(figsize=(12, 12), wavelength=600*nm,flag_axis=True, intensity=True)"
   ]
  },
  {
   "cell_type": "code",
   "execution_count": null,
   "id": "97a6c7ad-4551-45bf-aa35-594330b751e3",
   "metadata": {},
   "outputs": [],
   "source": []
  },
  {
   "cell_type": "code",
   "execution_count": null,
   "id": "ca6955bb-2e69-483a-8bde-7b5449b6c1d8",
   "metadata": {},
   "outputs": [],
   "source": []
  }
 ],
 "metadata": {
  "kernelspec": {
   "display_name": "Python 3 (ipykernel)",
   "language": "python",
   "name": "python3"
  },
  "language_info": {
   "codemirror_mode": {
    "name": "ipython",
    "version": 3
   },
   "file_extension": ".py",
   "mimetype": "text/x-python",
   "name": "python",
   "nbconvert_exporter": "python",
   "pygments_lexer": "ipython3",
   "version": "3.10.12"
  }
 },
 "nbformat": 4,
 "nbformat_minor": 5
}
