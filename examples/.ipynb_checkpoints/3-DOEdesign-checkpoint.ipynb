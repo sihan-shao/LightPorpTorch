{
 "cells": [
  {
   "cell_type": "code",
   "execution_count": 1,
   "id": "af79d9bf-a5b6-4ad9-9958-ac97375ccf3e",
   "metadata": {},
   "outputs": [],
   "source": [
    "import torch\n",
    "import sys\n",
    "sys.path.append('../')\n",
    "from DataType.ElectricField import ElectricField\n",
    "from LightSource.PlaneWave import PlaneWave\n",
    "from Props.AngularSpectrum import ASMPropagator as ASM_prop\n",
    "from Props.RayleighSommerfeld import RSCPropagator as RSC_prop\n",
    "from Components.Thin_Lens import Thin_LensElement\n",
    "from Components.Aperture import ApertureElement\n",
    "from Components.QuantizedDOE import SoftGumbelQuantizedDOELayerv3 as SoftGumbelQuantizedDOELayer\n",
    "from Components.QuantizedDOE import FullPrecisionDOELayer\n",
    "from Components.QuantizedDOE import FixDOEElement\n",
    "from Addons.Field_Crop import Field_Cropper\n",
    "from utils.units import *\n",
    "import numpy as np\n",
    "import scipy.io\n",
    "import time\n",
    "import torch.nn as nn"
   ]
  },
  {
   "cell_type": "code",
   "execution_count": 2,
   "id": "8e55e2b2-d277-4240-bf43-d583c1aa01fe",
   "metadata": {},
   "outputs": [],
   "source": [
    "# DOE parameters\n",
    "epsilon = 1.6**2\n",
    "tand = 0\n",
    "\n",
    "wavelength = 633 * nm\n",
    "\n",
    "\n",
    "input_field_shape = [1024, 1024]\n",
    "input_dxy = 6.4 * um\n",
    "doe_shape = [512, 512]\n",
    "doe_dxy = 12.8 * um\n",
    "\n",
    "crop_size = 512\n",
    "#print(\"The number of wavelengths: \" +  str(wavelengths.shape[0]))\n",
    "\n",
    "# all parameters of DOE optimization\n",
    "doe_params = {\n",
    "    'doe_size': doe_shape,\n",
    "    'doe_dxy' : doe_dxy,\n",
    "    'doe_level': 2**3,\n",
    "    'look_up_table': None,\n",
    "    'num_unit': None,\n",
    "    'height_constraint_max': 2*um,\n",
    "    'tolerance': 0,  \n",
    "    'material': [epsilon, tand]\n",
    "}\n",
    "\n",
    "optim_params = {\n",
    "    'c_s': 100,   # a number to boost the score (higher more robust to gumbel noise)\n",
    "    'tau_max': 2.5, # maximum value of tau\n",
    "    'tau_min': 1.5  # minimum value of tau\n",
    "}"
   ]
  },
  {
   "cell_type": "code",
   "execution_count": 3,
   "id": "f5d53797-b09c-4bf7-aa00-a1300741867f",
   "metadata": {},
   "outputs": [
    {
     "name": "stdout",
     "output_type": "stream",
     "text": [
      "torch.Size([1, 1, 200, 200])\n"
     ]
    },
    {
     "data": {
      "text/plain": [
       "<matplotlib.image.AxesImage at 0x7f8e88bb0a60>"
      ]
     },
     "execution_count": 3,
     "metadata": {},
     "output_type": "execute_result"
    },
    {
     "data": {
      "image/png": "[encoded data removed]",
      "text/plain": [
       "<Figure size 640x480 with 1 Axes>"
      ]
     },
     "metadata": {},
     "output_type": "display_data"
    }
   ],
   "source": [
    "import numpy as np\n",
    "from PIL import Image\n",
    "from utils.Helper_Functions import normalize\n",
    "import matplotlib.pyplot as plt\n",
    "import torch.nn.functional as F\n",
    "# choose the recon amp \n",
    "im = np.array(Image.open('./Aalto-logo2.png').convert('L'))\n",
    "target1 = torch.tensor(im, dtype=torch.float).unsqueeze(0).unsqueeze(0)\n",
    "target1 = normalize(target1)\n",
    "print(target1.shape)\n",
    "target1 = F.pad(input=target1, pad=(60, 60, 60, 60), mode='constant', value=0)\n",
    "target1 = nn.functional.interpolate(torch.round(target1), size=[crop_size, crop_size])\n",
    "plt.imshow(target1[0,0,:,:])"
   ]
  },
  {
   "cell_type": "markdown",
   "id": "e34c8fb8-38f7-4cca-a498-74f72c4da5c2",
   "metadata": {},
   "source": [
    "## 2. Define the System with FullPrecisionDOE"
   ]
  },
  {
   "cell_type": "code",
   "execution_count": 7,
   "id": "1cd8ac7e-f39e-4f7a-b052-fc873b7ce6b1",
   "metadata": {},
   "outputs": [],
   "source": [
    "class DOEsystem(nn.Module):\n",
    "    \"\"\" simulate a simple system with one diffractive optical element \n",
    "    \"\"\"\n",
    "    def __init__(self, \n",
    "                 input_dxy, \n",
    "                 input_field_shape,\n",
    "                 doe_params, \n",
    "                 optim_params,\n",
    "                 wavelengths):\n",
    "        super().__init__()\n",
    "\n",
    "        self.source = PlaneWave(height=input_field_shape[0],\n",
    "                                width=input_field_shape[1],\n",
    "                                spacing=input_dxy,\n",
    "                                wavelengths=wavelengths)\n",
    "\n",
    "        self.aperture = ApertureElement(aperture_type = 'rect',\n",
    "                                        aperture_size = input_field_shape[0] * input_dxy / 2)\n",
    "\n",
    "        self.doe = FullPrecisionDOELayer(doe_params)\n",
    "\n",
    "        self.asm_prop = ASM_prop(z_distance=0.1 * m, \n",
    "                                 bandlimit_type='exact', \n",
    "                                 padding_scale=[2, 2], \n",
    "                                 bandlimit_kernel=True)\n",
    "\n",
    "        self.field_crop = Field_Cropper(outputHeight=512,outputWidth=512)\n",
    "\n",
    "    def forward(self, iter_frac):\n",
    "\n",
    "        output_field = self.asm_prop(\n",
    "            self.doe(\n",
    "                self.aperture(\n",
    "                    self.source()\n",
    "                )\n",
    "            )\n",
    "        )\n",
    "\n",
    "        \n",
    "        return self.field_crop(output_field)"
   ]
  },
  {
   "cell_type": "code",
   "execution_count": 8,
   "id": "2fde2f82-2683-4356-a792-116c313fa8c6",
   "metadata": {},
   "outputs": [],
   "source": [
    "setup = DOEsystem(input_dxy=input_dxy, \n",
    "                  input_field_shape=input_field_shape, \n",
    "                  doe_params=doe_params, \n",
    "                  optim_params=optim_params,\n",
    "                  wavelengths=wavelength)"
   ]
  },
  {
   "cell_type": "code",
   "execution_count": null,
   "id": "c21700f2-96bc-44d5-a2fc-4758371b5ca6",
   "metadata": {},
   "outputs": [
    {
     "name": "stdout",
     "output_type": "stream",
     "text": [
      "The critical distance is 198.53894412517548 mm, the TF will be fine during the sampling !\n",
      "The iteration : 0, Loss: 0.11360812187194824\n",
      "The iteration : 200, Loss: 0.08599267899990082\n",
      "The iteration : 400, Loss: 0.0770939365029335\n"
     ]
    }
   ],
   "source": [
    "max_itrs = 10000\n",
    "\n",
    "losses = []\n",
    "itr_list = []\n",
    "itr_to_save_plots = []\n",
    "setup.cuda()\n",
    "target1 = target1.cuda()\n",
    "optimizer = torch.optim.Adam(setup.parameters(), lr=2e-3)\n",
    "\n",
    "loss_fn = nn.MSELoss()\n",
    "\n",
    "best_loss = 10\n",
    "\n",
    "for itr in range(max_itrs):\n",
    "    field = setup.forward(iter_frac=itr/max_itrs)\n",
    "    out_amp = normalize(torch.abs(field.data)**2)\n",
    "    loss = loss_fn(out_amp, target1)\n",
    "    optimizer.zero_grad()\n",
    "    loss.backward()\n",
    "    optimizer.step()\n",
    "\n",
    "    losses.append(loss.item())\n",
    "    itr_list.append(itr)\n",
    "    \n",
    "    if itr % 200 == 0 or itr == (max_itrs-1):\n",
    "        print(\"The iteration : {}, Loss: {}\".format(itr, loss))\n",
    "        #out_field_1.visualize(flag_axis = True, figsize=(6,6), wavelength=wavelengths, intensity=True)\n",
    "        #out_field_2.visualize(flag_axis = True, figsize=(6,6), wavelength=wavelengths, intensity=True)\n",
    "    \n",
    "    if loss < best_loss:\n",
    "        best_setup = setup\n",
    "        best_loss = loss\n",
    "        best_field = field"
   ]
  },
  {
   "cell_type": "code",
   "execution_count": null,
   "id": "5ec29835-414c-41d7-a9ab-af1a72d02992",
   "metadata": {},
   "outputs": [],
   "source": [
    "best_field.visualize(flag_axis = True, figsize=(10,10), wavelength=wavelength, intensity=True)"
   ]
  },
  {
   "cell_type": "code",
   "execution_count": null,
   "id": "1c6e3962-c5c0-4078-b3d4-15eae8f7397c",
   "metadata": {},
   "outputs": [],
   "source": [
    "best_setup.doe.visualize(figsize=(8,8), crop_size=[crop_size, crop_size])"
   ]
  },
  {
   "cell_type": "markdown",
   "id": "c4152b93-f8da-40ba-8691-ceca666ca018",
   "metadata": {},
   "source": [
    "## 3. Define the System with Quantized DOE"
   ]
  },
  {
   "cell_type": "code",
   "execution_count": null,
   "id": "2fb02338-4096-4973-890a-8f3140d2b804",
   "metadata": {},
   "outputs": [],
   "source": [
    "class DOEsystem(nn.Module):\n",
    "    \"\"\" simulate a simple system with one diffractive optical element \n",
    "    \"\"\"\n",
    "    def __init__(self, \n",
    "                 input_dxy, \n",
    "                 input_field_shape,\n",
    "                 doe_params, \n",
    "                 optim_params,\n",
    "                 wavelengths):\n",
    "        super().__init__()\n",
    "\n",
    "        self.source = PlaneWave(height=input_field_shape[0],\n",
    "                                width=input_field_shape[1],\n",
    "                                spacing=input_dxy,\n",
    "                                wavelengths=wavelengths)\n",
    "\n",
    "        self.aperture = ApertureElement(aperture_type = 'rect',\n",
    "                                        aperture_size = input_field_shape[0] * input_dxy / 2)\n",
    "\n",
    "        self.doe = SoftGumbelQuantizedDOELayer(doe_params, optim_params)\n",
    "\n",
    "        self.asm_prop = ASM_prop(z_distance=0.1 * m, \n",
    "                                 bandlimit_type='exact', \n",
    "                                 padding_scale=[2, 2], \n",
    "                                 bandlimit_kernel=True)\n",
    "\n",
    "        self.field_crop = Field_Cropper(outputHeight=512,outputWidth=512)\n",
    "\n",
    "    def forward(self, iter_frac):\n",
    "\n",
    "        output_field = self.asm_prop(\n",
    "            self.doe(\n",
    "                self.aperture(\n",
    "                    self.source()\n",
    "                )\n",
    "            , iter_frac)\n",
    "        )\n",
    "\n",
    "        \n",
    "        return self.field_crop(output_field)"
   ]
  },
  {
   "cell_type": "code",
   "execution_count": null,
   "id": "f919f73a-9d8c-4b22-bf57-8fe111d752c4",
   "metadata": {},
   "outputs": [],
   "source": [
    "setup = DOEsystem(input_dxy=input_dxy, \n",
    "                  input_field_shape=input_field_shape, \n",
    "                  doe_params=doe_params, \n",
    "                  optim_params=optim_params,\n",
    "                  wavelengths=wavelength)\n",
    "\n",
    "max_itrs = 10000\n",
    "\n",
    "losses = []\n",
    "itr_list = []\n",
    "itr_to_save_plots = []\n",
    "setup.cuda()\n",
    "target1 = target1.cuda()\n",
    "optimizer = torch.optim.AdamW(setup.parameters(), lr=2e-3)\n",
    "\n",
    "loss_fn = nn.MSELoss()\n",
    "\n",
    "best_loss = 10\n",
    "\n",
    "for itr in range(max_itrs):\n",
    "    field = setup.forward(iter_frac=itr/max_itrs)\n",
    "    out_amp = normalize(torch.abs(field.data)**2)\n",
    "    loss = loss_fn(out_amp, target1)\n",
    "    optimizer.zero_grad()\n",
    "    loss.backward()\n",
    "    optimizer.step()\n",
    "\n",
    "    losses.append(loss.item())\n",
    "    itr_list.append(itr)\n",
    "    \n",
    "    if itr % 200 == 0 or itr == (max_itrs-1):\n",
    "        print(\"The iteration : {}, Loss: {}\".format(itr, loss))\n",
    "        #out_field_1.visualize(flag_axis = True, figsize=(6,6), wavelength=wavelengths, intensity=True)\n",
    "        #out_field_2.visualize(flag_axis = True, figsize=(6,6), wavelength=wavelengths, intensity=True)\n",
    "    \n",
    "    if loss < best_loss:\n",
    "        best_setup = setup\n",
    "        best_loss = loss\n",
    "        best_field = field"
   ]
  },
  {
   "cell_type": "code",
   "execution_count": null,
   "id": "ce9b4b5a-a2eb-48df-8470-2fac467eeaaf",
   "metadata": {},
   "outputs": [],
   "source": [
    "best_field.visualize(flag_axis = True, figsize=(10,10), wavelength=wavelength, intensity=True)"
   ]
  },
  {
   "cell_type": "code",
   "execution_count": null,
   "id": "8e6eee46-80cc-41e6-881f-a5e5d480c955",
   "metadata": {},
   "outputs": [],
   "source": [
    "best_setup.doe.visualize(figsize=(8,8), crop_size=[crop_size, crop_size])"
   ]
  },
  {
   "cell_type": "code",
   "execution_count": null,
   "id": "1d1005b7-6bb5-4f22-b4cb-5af772402480",
   "metadata": {},
   "outputs": [],
   "source": [
    "best_setup.doe.height_map.unique()"
   ]
  },
  {
   "cell_type": "code",
   "execution_count": null,
   "id": "4ec50cd6-080e-4fd3-8fba-9abbf62b8203",
   "metadata": {},
   "outputs": [],
   "source": []
  }
 ],
 "metadata": {
  "kernelspec": {
   "display_name": "Python 3 (ipykernel)",
   "language": "python",
   "name": "python3"
  },
  "language_info": {
   "codemirror_mode": {
    "name": "ipython",
    "version": 3
   },
   "file_extension": ".py",
   "mimetype": "text/x-python",
   "name": "python",
   "nbconvert_exporter": "python",
   "pygments_lexer": "ipython3",
   "version": "3.10.12"
  }
 },
 "nbformat": 4,
 "nbformat_minor": 5
}
